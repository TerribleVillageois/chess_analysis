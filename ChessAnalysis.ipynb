{
 "cells": [
  {
   "cell_type": "markdown",
   "id": "c26b3375-f7ff-4397-a1bd-92f1112ca176",
   "metadata": {},
   "source": [
    "# Do player with a higher rating have a higher probability of castling in chess?"
   ]
  },
  {
   "cell_type": "markdown",
   "id": "37391e27-1609-40f9-92eb-3f8b088ff1c7",
   "metadata": {},
   "source": [
    "## Introduction\n",
    "\n",
    "When I read about chess to improve my skills, I often came across the importance of castling to increase king safety and to develop a rook at the same time. The more I played, the more I realised that it's increadibly useful to move two pieces during one turn. I thought, well certainly it should always be done in a match!\n",
    "\n",
    "But when I started watching high level players, I came across multiple games that players did not castle, which was suprising to me. In addition, in one video about chess engines, the youtuber gothamchess said that thoses engines often don't castle. Which was weird to me, because they are by far better than humans in ratings that can go higher than 3600 compared to the highest rated human of all time, Magnus Carlsen, who is a tad below 2900.\n",
    "\n",
    "\n",
    "So I formulated the hypothesis that beginner players have a low probability of castling and the probability of this action accuring is increasing until the level of GM (2500 elo) and decreasing afterwards."
   ]
  },
  {
   "cell_type": "markdown",
   "id": "7d169d5e-6ced-4844-b2bd-63a2daaa627f",
   "metadata": {},
   "source": [
    "# Data gathering\n",
    "\n",
    "To gather data, I used the open source site : lichess.org which at the end of each month, releases a file, in the pgn format, of all the games played. This file is easily readable with a parser https://database.lichess.org. After getting the data, I kept the information about every move both players made during a match, separated by colors (white and black), so I could later identify if there was a castle. I did this by using a regular expression that can be found here: https://regex101.com/r/66I1uc/1. I extracted all the relevant data that would be useful to describe the probability of castling. The variables that I chose to keep were: the rating of the player and the rating difference between the two players. Here is an extract of the data collected this way :"
   ]
  },
  {
   "cell_type": "code",
   "execution_count": 1,
   "id": "fca75859-bdfb-4fb1-9bab-550130e83177",
   "metadata": {},
   "outputs": [],
   "source": [
    "import pandas as pd\n",
    "import chess.pgn\n",
    "import chess_fun\n",
    "import matplotlib.pyplot as plt\n",
    "import numpy as np\n",
    "import fonctionsUtiles as utile\n",
    "import seaborn as sns\n",
    "\n",
    "# Saving the data in a pickle so we can fetch it if we need it later\n",
    "try: \n",
    "    df = pd.read_pickle(\"Lichess_JupyterLab.pkl\")\n",
    "except FileNotFoundError:\n",
    "    df = chess_fun.df_from_png(\"D:/lichessGames/lichess_db_standard_rated_2021-12.pgn\", \"Lichess_JupyterLab.pkl\", 100000);"
   ]
  },
  {
   "cell_type": "code",
   "execution_count": 2,
   "id": "9d188ef3-6f35-486c-94e4-70193a0852f9",
   "metadata": {},
   "outputs": [
    {
     "data": {
      "text/html": [
       "<div>\n",
       "<style scoped>\n",
       "    .dataframe tbody tr th:only-of-type {\n",
       "        vertical-align: middle;\n",
       "    }\n",
       "\n",
       "    .dataframe tbody tr th {\n",
       "        vertical-align: top;\n",
       "    }\n",
       "\n",
       "    .dataframe thead th {\n",
       "        text-align: right;\n",
       "    }\n",
       "</style>\n",
       "<table border=\"1\" class=\"dataframe\">\n",
       "  <thead>\n",
       "    <tr style=\"text-align: right;\">\n",
       "      <th></th>\n",
       "      <th>White elo</th>\n",
       "      <th>Black elo</th>\n",
       "      <th>White castle</th>\n",
       "      <th>Black castle</th>\n",
       "      <th>white short</th>\n",
       "      <th>White long</th>\n",
       "      <th>black short</th>\n",
       "      <th>black long</th>\n",
       "      <th>White rating diff</th>\n",
       "      <th>Black rating diff</th>\n",
       "      <th>Event type</th>\n",
       "    </tr>\n",
       "  </thead>\n",
       "  <tbody>\n",
       "    <tr>\n",
       "      <th>0</th>\n",
       "      <td>1301</td>\n",
       "      <td>1366</td>\n",
       "      <td>0</td>\n",
       "      <td>1</td>\n",
       "      <td>0</td>\n",
       "      <td>0</td>\n",
       "      <td>1</td>\n",
       "      <td>0</td>\n",
       "      <td>-65</td>\n",
       "      <td>65</td>\n",
       "      <td>Rated Bullet game</td>\n",
       "    </tr>\n",
       "    <tr>\n",
       "      <th>1</th>\n",
       "      <td>1960</td>\n",
       "      <td>1928</td>\n",
       "      <td>1</td>\n",
       "      <td>1</td>\n",
       "      <td>1</td>\n",
       "      <td>0</td>\n",
       "      <td>1</td>\n",
       "      <td>0</td>\n",
       "      <td>32</td>\n",
       "      <td>-32</td>\n",
       "      <td>Rated Bullet game</td>\n",
       "    </tr>\n",
       "    <tr>\n",
       "      <th>2</th>\n",
       "      <td>1984</td>\n",
       "      <td>1989</td>\n",
       "      <td>1</td>\n",
       "      <td>1</td>\n",
       "      <td>1</td>\n",
       "      <td>0</td>\n",
       "      <td>1</td>\n",
       "      <td>0</td>\n",
       "      <td>-5</td>\n",
       "      <td>5</td>\n",
       "      <td>Rated Bullet game</td>\n",
       "    </tr>\n",
       "    <tr>\n",
       "      <th>3</th>\n",
       "      <td>1054</td>\n",
       "      <td>1156</td>\n",
       "      <td>0</td>\n",
       "      <td>1</td>\n",
       "      <td>0</td>\n",
       "      <td>0</td>\n",
       "      <td>1</td>\n",
       "      <td>0</td>\n",
       "      <td>-102</td>\n",
       "      <td>102</td>\n",
       "      <td>Rated Bullet game</td>\n",
       "    </tr>\n",
       "    <tr>\n",
       "      <th>4</th>\n",
       "      <td>887</td>\n",
       "      <td>845</td>\n",
       "      <td>1</td>\n",
       "      <td>1</td>\n",
       "      <td>0</td>\n",
       "      <td>1</td>\n",
       "      <td>1</td>\n",
       "      <td>0</td>\n",
       "      <td>42</td>\n",
       "      <td>-42</td>\n",
       "      <td>Rated Bullet game</td>\n",
       "    </tr>\n",
       "  </tbody>\n",
       "</table>\n",
       "</div>"
      ],
      "text/plain": [
       "   White elo  Black elo  White castle  Black castle  white short  White long  \\\n",
       "0       1301       1366             0             1            0           0   \n",
       "1       1960       1928             1             1            1           0   \n",
       "2       1984       1989             1             1            1           0   \n",
       "3       1054       1156             0             1            0           0   \n",
       "4        887        845             1             1            0           1   \n",
       "\n",
       "   black short  black long  White rating diff  Black rating diff  \\\n",
       "0            1           0                -65                 65   \n",
       "1            1           0                 32                -32   \n",
       "2            1           0                 -5                  5   \n",
       "3            1           0               -102                102   \n",
       "4            1           0                 42                -42   \n",
       "\n",
       "          Event type  \n",
       "0  Rated Bullet game  \n",
       "1  Rated Bullet game  \n",
       "2  Rated Bullet game  \n",
       "3  Rated Bullet game  \n",
       "4  Rated Bullet game  "
      ]
     },
     "execution_count": 2,
     "metadata": {},
     "output_type": "execute_result"
    }
   ],
   "source": [
    "## Looking at the data :\n",
    "\n",
    "df.head()"
   ]
  },
  {
   "cell_type": "markdown",
   "id": "ec9f6b00-1c04-44e5-980b-f9cb6e24e04f",
   "metadata": {},
   "source": [
    "To create the castle dataframe, I separated white moves and the black moves so the df_castle dataframe has twice the amount of rows than the original dataframe. I only kept the data that was relevant for the according players. I collapsed the information about the short and long castles, because for this project, I wanted to focus only on the propability of castle.\n",
    "\n",
    "I saved the information about the type of events (blitz, rapid, classical, etc.) the participants are playing since depending of the time control, it could be possible that the behaviour of players change. For example, a blitz game is generally below 10 minutes whereas a classical game can be up to 7 hours. Therefore, players usually play more agressively in blitz, which could impact the probability of castling."
   ]
  },
  {
   "cell_type": "code",
   "execution_count": 3,
   "id": "ffe3bc50-5e41-4d20-b7e4-ac02f87cd352",
   "metadata": {},
   "outputs": [
    {
     "data": {
      "text/html": [
       "<div>\n",
       "<style scoped>\n",
       "    .dataframe tbody tr th:only-of-type {\n",
       "        vertical-align: middle;\n",
       "    }\n",
       "\n",
       "    .dataframe tbody tr th {\n",
       "        vertical-align: top;\n",
       "    }\n",
       "\n",
       "    .dataframe thead th {\n",
       "        text-align: right;\n",
       "    }\n",
       "</style>\n",
       "<table border=\"1\" class=\"dataframe\">\n",
       "  <thead>\n",
       "    <tr style=\"text-align: right;\">\n",
       "      <th></th>\n",
       "      <th>Player elo</th>\n",
       "      <th>Castle</th>\n",
       "      <th>Rating diff</th>\n",
       "      <th>Event type</th>\n",
       "    </tr>\n",
       "  </thead>\n",
       "  <tbody>\n",
       "    <tr>\n",
       "      <th>0</th>\n",
       "      <td>1301</td>\n",
       "      <td>0</td>\n",
       "      <td>-65</td>\n",
       "      <td>Rated Bullet game</td>\n",
       "    </tr>\n",
       "    <tr>\n",
       "      <th>1</th>\n",
       "      <td>1366</td>\n",
       "      <td>1</td>\n",
       "      <td>65</td>\n",
       "      <td>Rated Bullet game</td>\n",
       "    </tr>\n",
       "    <tr>\n",
       "      <th>2</th>\n",
       "      <td>1960</td>\n",
       "      <td>1</td>\n",
       "      <td>32</td>\n",
       "      <td>Rated Bullet game</td>\n",
       "    </tr>\n",
       "    <tr>\n",
       "      <th>3</th>\n",
       "      <td>1928</td>\n",
       "      <td>1</td>\n",
       "      <td>-32</td>\n",
       "      <td>Rated Bullet game</td>\n",
       "    </tr>\n",
       "    <tr>\n",
       "      <th>4</th>\n",
       "      <td>1984</td>\n",
       "      <td>1</td>\n",
       "      <td>-5</td>\n",
       "      <td>Rated Bullet game</td>\n",
       "    </tr>\n",
       "  </tbody>\n",
       "</table>\n",
       "</div>"
      ],
      "text/plain": [
       "   Player elo  Castle  Rating diff         Event type\n",
       "0        1301       0          -65  Rated Bullet game\n",
       "1        1366       1           65  Rated Bullet game\n",
       "2        1960       1           32  Rated Bullet game\n",
       "3        1928       1          -32  Rated Bullet game\n",
       "4        1984       1           -5  Rated Bullet game"
      ]
     },
     "execution_count": 3,
     "metadata": {},
     "output_type": "execute_result"
    }
   ],
   "source": [
    "df_castle = chess_fun.create_castle_df(df)\n",
    "df_castle.head()"
   ]
  },
  {
   "cell_type": "markdown",
   "id": "03f2edaa-8612-4765-8db5-66ef29277b79",
   "metadata": {},
   "source": [
    "# First observations\n",
    "\n",
    "Looking at the data from the following figure, it seems clear that there is a positive relationship between the probability that a player castle and their rating. The players that have a rating between 600 and 800 elo points castle less than 40% of the time, whereas players with a rating higher than 2000 castle about 85% of the time. This important difference surprised me. But the thing that I found the most interesting was that there seemed to be a plateau at rating of 2000. \n",
    "\n",
    "\n",
    "# Who might find this information useful\n",
    "\n",
    "These results could be useful for players with a rating below 2000 and that castle less that 80% of the time. It's probable that these players underestimate the importance of castling and that is a hurdle to their chess progression. Unfortunately, it doesn't mean that castling more would increase their ratings. However, every time they choose not to castle, they should evaluate the play carefully to determine two things 1) is not castling the best play for them and 2) understand what they are giving up by not doing so."
   ]
  },
  {
   "cell_type": "code",
   "execution_count": 4,
   "id": "89ee73ea-384d-4e9f-a8cf-4b9ff98d359c",
   "metadata": {},
   "outputs": [
    {
     "data": {
      "image/png": "[encoded data removed]",
      "text/plain": [
       "<Figure size 1440x432 with 1 Axes>"
      ]
     },
     "metadata": {},
     "output_type": "display_data"
    }
   ],
   "source": [
    "data, matrice = utile.cut_dataframe(df_castle,\"Player elo\", 200)\n",
    "plt.rcParams['figure.figsize'] = [20, 6]\n",
    "plt.plot(matrice,data[\"Castle\"],'-+')\n",
    "plt.show()"
   ]
  },
  {
   "cell_type": "markdown",
   "id": "45294917-a907-462d-9f58-820d181e7dd9",
   "metadata": {},
   "source": [
    "## Log reg model\n",
    "\n",
    "Using the logistic regression model, we can verify if the relationship between the rating and the castling probability is statistifically significiant. Therefore, if we would analyse another set of data, we would likelly see the same relationship between the ratings and the probability of castling."
   ]
  },
  {
   "cell_type": "code",
   "execution_count": 5,
   "id": "46981a29-efb3-4f34-83d2-56a159405b73",
   "metadata": {},
   "outputs": [
    {
     "name": "stderr",
     "output_type": "stream",
     "text": [
      "C:\\Users\\maxime\\anaconda3\\envs\\machineLearning\\lib\\site-packages\\statsmodels\\compat\\pandas.py:61: FutureWarning: pandas.Int64Index is deprecated and will be removed from pandas in a future version. Use pandas.Index with the appropriate dtype instead.\n",
      "  from pandas import Int64Index as NumericIndex\n"
     ]
    },
    {
     "name": "stdout",
     "output_type": "stream",
     "text": [
      "Optimization terminated successfully.\n",
      "         Current function value: 0.524431\n",
      "         Iterations 6\n",
      "                          Results: Logit\n",
      "==================================================================\n",
      "Model:              Logit            Pseudo R-squared: 0.036      \n",
      "Dependent Variable: Castle           AIC:              209778.3442\n",
      "Date:               2022-03-16 13:16 BIC:              209808.9624\n",
      "No. Observations:   200000           Log-Likelihood:   -1.0489e+05\n",
      "Df Model:           2                LL-Null:          -1.0883e+05\n",
      "Df Residuals:       199997           LLR p-value:      0.0000     \n",
      "Converged:          1.0000           Scale:            1.0000     \n",
      "No. Iterations:     6.0000                                        \n",
      "-------------------------------------------------------------------\n",
      "               Coef.   Std.Err.     z      P>|z|    [0.025   0.975]\n",
      "-------------------------------------------------------------------\n",
      "const         -0.9136    0.0244  -37.4727  0.0000  -0.9614  -0.8658\n",
      "Player elo     0.0013    0.0000   85.9874  0.0000   0.0013   0.0013\n",
      "Rating diff   -0.0002    0.0000   -5.1518  0.0000  -0.0003  -0.0001\n",
      "==================================================================\n",
      "\n"
     ]
    }
   ],
   "source": [
    "import statsmodels.api as sm\n",
    "\n",
    "y = df_castle['Castle']\n",
    "X = sm.add_constant(df_castle[['Player elo', \"Rating diff\"]])\n",
    "\n",
    "logit_model = sm.Logit(y, X)\n",
    "result = logit_model.fit()\n",
    "print(result.summary2())"
   ]
  },
  {
   "cell_type": "markdown",
   "id": "fceb7a86-3f44-467b-9e90-473d716f4f1f",
   "metadata": {},
   "source": [
    "So there is a stong relationship between the player elo and the probability of castling with a z score of over 85. Yet, even when adding the rating difference, we can only explain 4% of the probability of castling. Therefore, they are likely many unobservable factors that determine if a player will castle or not. Some factors like their opening repertoire and how their opponent are playing. Because the goal of this analysis was to proove that their is a strong relationship between player skill and castling probability, not to explain why a player castles, I am satisfied with these results and won't add more features to increase the r<sup>2</sup>."
   ]
  },
  {
   "cell_type": "code",
   "execution_count": 6,
   "id": "716466a7-da9d-4ecd-9e20-f70d8e0bc747",
   "metadata": {},
   "outputs": [
    {
     "data": {
      "image/png": "[encoded data removed]",
      "text/plain": [
       "<Figure size 1440x432 with 1 Axes>"
      ]
     },
     "metadata": {},
     "output_type": "display_data"
    }
   ],
   "source": [
    "df_Blitz = df[df[\"Event type\"] == \"Rated Bullet game\"]\n",
    "df_Rapid = df[df[\"Event type\"] == \"Rated Rapid game\"]\n",
    "\n",
    "df_castle_Blitz = chess_fun.create_castle_df(df_Blitz)\n",
    "df_castle_Rapid = chess_fun.create_castle_df(df_Rapid)\n",
    "\n",
    "matrice = np.arange(300, 2900, 200) #(min, max, step)\n",
    "\n",
    "dataRapid, matriceRapid = utile.cut_dataframe(df_castle_Rapid,\"Player elo\", matrice = matrice)\n",
    "dataBlitz, matriceBlitz = utile.cut_dataframe(df_castle_Blitz,\"Player elo\", matrice = matrice)\n",
    "\n",
    "plt.plot(matriceRapid,dataRapid[\"Castle\"],'-+', label = \"Rapid\")\n",
    "plt.plot(matriceBlitz,dataBlitz[\"Castle\"],'-+', label = \"Blitz\")\n",
    "\n",
    "plt.legend()\n",
    "plt.show()\n"
   ]
  },
  {
   "cell_type": "code",
   "execution_count": 7,
   "id": "bb212ba6-d534-4c18-8ead-124c873eef0d",
   "metadata": {},
   "outputs": [
    {
     "name": "stdout",
     "output_type": "stream",
     "text": [
      "The prediction formulated by the logreg model is correct about 76.59% of the time\n"
     ]
    }
   ],
   "source": [
    "from sklearn.linear_model import LogisticRegression\n",
    "from sklearn.model_selection import train_test_split\n",
    "from sklearn.metrics import r2_score, accuracy_score\n",
    "from sklearn import metrics\n",
    "\n",
    "X_train, X_test, y_train, y_test = train_test_split(X,y, test_size = 0.5, random_state = 0)\n",
    "logreg = LogisticRegression()\n",
    "logreg.fit(X_train,y_train)\n",
    "\n",
    "y_pred = logreg.predict(X_test)\n",
    "print(\"The prediction formulated by the logreg model is correct about {:.2f}% of the time\".format(logreg.score(X_test,y_test) *100))"
   ]
  },
  {
   "cell_type": "markdown",
   "id": "51a19587-a864-4623-84e6-582c99d390bb",
   "metadata": {},
   "source": [
    "So despite the really low r<sup>2</sup>, the algorithm's prediction on the test set is relatively high because it separates players between two groups: group A that always castles and group B that never castles based on their rating. Since, low level players almost never castle and high level players almost always castle, the algorithm is right most of the time.\n"
   ]
  },
  {
   "cell_type": "markdown",
   "id": "798c6bc2-ebdd-4952-bac5-63dc13f1c71f",
   "metadata": {},
   "source": [
    "## Conclusion\n",
    "\n",
    "My first hypothesis was wrong because the probability of castling is increasing continiously on the data that I have collected. However, there is a plateau of the probablity of castling at about 2000 elo points where players castle on average 85% of the time. For further analysis it would be interesting to add data of computer games where the level of play is better than humans to see if the findings are similar. For example, if the computers castle less that 85% of the time it might be that there is a better strategy than castling 85% of the time even though it's the strategy used by the top players currently."
   ]
  }
 ],
 "metadata": {
  "kernelspec": {
   "display_name": "Python 3 (ipykernel)",
   "language": "python",
   "name": "python3"
  },
  "language_info": {
   "codemirror_mode": {
    "name": "ipython",
    "version": 3
   },
   "file_extension": ".py",
   "mimetype": "text/x-python",
   "name": "python",
   "nbconvert_exporter": "python",
   "pygments_lexer": "ipython3",
   "version": "3.9.7"
  }
 },
 "nbformat": 4,
 "nbformat_minor": 5
}
